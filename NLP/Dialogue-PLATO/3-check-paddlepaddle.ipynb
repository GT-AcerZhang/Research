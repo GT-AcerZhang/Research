{
 "cells": [
  {
   "cell_type": "markdown",
   "metadata": {},
   "source": [
    "https://www.paddlepaddle.org.cn/install/quick\n",
    "\n",
    "paddlepaddle"
   ]
  },
  {
   "cell_type": "code",
   "execution_count": 1,
   "metadata": {},
   "outputs": [
    {
     "name": "stdout",
     "output_type": "stream",
     "text": [
      "/home/xuehp/git/Research/NLP/Dialogue-PLATO/env/bin/python3\r\n"
     ]
    }
   ],
   "source": [
    "!which python3"
   ]
  },
  {
   "cell_type": "code",
   "execution_count": 2,
   "metadata": {},
   "outputs": [
    {
     "name": "stdout",
     "output_type": "stream",
     "text": [
      "Python 3.6.9\r\n"
     ]
    }
   ],
   "source": [
    "!python3 --version"
   ]
  },
  {
   "cell_type": "code",
   "execution_count": 3,
   "metadata": {},
   "outputs": [
    {
     "name": "stdout",
     "output_type": "stream",
     "text": [
      "Requirement already satisfied: setuptools in ./env/lib/python3.6/site-packages\n",
      "Requirement already satisfied: pip in ./env/lib/python3.6/site-packages\n",
      "Requirement already satisfied: pkg_resources in ./env/lib/python3.6/site-packages\n",
      "pip 9.0.1 from /home/xuehp/git/Research/NLP/Dialogue-PLATO/env/lib/python3.6/site-packages (python 3.6)\n"
     ]
    }
   ],
   "source": [
    "!python3 -m ensurepip\n",
    "!python3 -m pip --version"
   ]
  },
  {
   "cell_type": "code",
   "execution_count": 4,
   "metadata": {},
   "outputs": [
    {
     "name": "stdout",
     "output_type": "stream",
     "text": [
      "64bit\r\n",
      "x86_64\r\n"
     ]
    }
   ],
   "source": [
    "!python3 -c \"import platform;print(platform.architecture()[0]);print(platform.machine())\""
   ]
  },
  {
   "cell_type": "code",
   "execution_count": 5,
   "metadata": {},
   "outputs": [
    {
     "name": "stdout",
     "output_type": "stream",
     "text": [
      "Requirement already satisfied: paddlepaddle in ./env/lib/python3.6/site-packages\n",
      "Requirement already satisfied: scipy in ./env/lib/python3.6/site-packages (from paddlepaddle)\n",
      "Requirement already satisfied: six in ./env/lib/python3.6/site-packages (from paddlepaddle)\n",
      "Requirement already satisfied: numpy<=1.16.4,>=1.12 in ./env/lib/python3.6/site-packages (from paddlepaddle)\n",
      "Requirement already satisfied: pyyaml in ./env/lib/python3.6/site-packages (from paddlepaddle)\n",
      "Requirement already satisfied: opencv-python in ./env/lib/python3.6/site-packages (from paddlepaddle)\n",
      "Requirement already satisfied: prettytable in ./env/lib/python3.6/site-packages (from paddlepaddle)\n",
      "Requirement already satisfied: Pillow in ./env/lib/python3.6/site-packages (from paddlepaddle)\n",
      "Requirement already satisfied: nltk in ./env/lib/python3.6/site-packages (from paddlepaddle)\n",
      "Requirement already satisfied: objgraph in ./env/lib/python3.6/site-packages (from paddlepaddle)\n",
      "Requirement already satisfied: matplotlib<=2.2.4 in ./env/lib/python3.6/site-packages (from paddlepaddle)\n",
      "Requirement already satisfied: requests>=2.20.0 in ./env/lib/python3.6/site-packages (from paddlepaddle)\n",
      "Requirement already satisfied: protobuf>=3.1.0 in ./env/lib/python3.6/site-packages (from paddlepaddle)\n",
      "Requirement already satisfied: funcsigs in ./env/lib/python3.6/site-packages (from paddlepaddle)\n",
      "Requirement already satisfied: graphviz in ./env/lib/python3.6/site-packages (from paddlepaddle)\n",
      "Requirement already satisfied: rarfile in ./env/lib/python3.6/site-packages (from paddlepaddle)\n",
      "Requirement already satisfied: decorator in ./env/lib/python3.6/site-packages (from paddlepaddle)\n",
      "Requirement already satisfied: singledispatch in ./env/lib/python3.6/site-packages (from nltk->paddlepaddle)\n",
      "Requirement already satisfied: python-dateutil>=2.1 in ./env/lib/python3.6/site-packages (from matplotlib<=2.2.4->paddlepaddle)\n",
      "Requirement already satisfied: pyparsing!=2.0.4,!=2.1.2,!=2.1.6,>=2.0.1 in ./env/lib/python3.6/site-packages (from matplotlib<=2.2.4->paddlepaddle)\n",
      "Requirement already satisfied: kiwisolver>=1.0.1 in ./env/lib/python3.6/site-packages (from matplotlib<=2.2.4->paddlepaddle)\n",
      "Requirement already satisfied: cycler>=0.10 in ./env/lib/python3.6/site-packages (from matplotlib<=2.2.4->paddlepaddle)\n",
      "Requirement already satisfied: pytz in ./env/lib/python3.6/site-packages (from matplotlib<=2.2.4->paddlepaddle)\n",
      "Requirement already satisfied: urllib3!=1.25.0,!=1.25.1,<1.26,>=1.21.1 in ./env/lib/python3.6/site-packages (from requests>=2.20.0->paddlepaddle)\n",
      "Requirement already satisfied: certifi>=2017.4.17 in ./env/lib/python3.6/site-packages (from requests>=2.20.0->paddlepaddle)\n",
      "Requirement already satisfied: chardet<4,>=3.0.2 in ./env/lib/python3.6/site-packages (from requests>=2.20.0->paddlepaddle)\n",
      "Requirement already satisfied: idna<3,>=2.5 in ./env/lib/python3.6/site-packages (from requests>=2.20.0->paddlepaddle)\n",
      "Requirement already satisfied: setuptools in ./env/lib/python3.6/site-packages (from protobuf>=3.1.0->paddlepaddle)\n"
     ]
    }
   ],
   "source": [
    "!python3 -m pip install paddlepaddle -i https://mirror.baidu.com/pypi/simple"
   ]
  },
  {
   "cell_type": "code",
   "execution_count": 7,
   "metadata": {},
   "outputs": [
    {
     "ename": "ModuleNotFoundError",
     "evalue": "No module named 'paddle'",
     "output_type": "error",
     "traceback": [
      "\u001b[0;31m---------------------------------------------------------------------------\u001b[0m",
      "\u001b[0;31mModuleNotFoundError\u001b[0m                       Traceback (most recent call last)",
      "\u001b[0;32m<ipython-input-7-5d669549c2da>\u001b[0m in \u001b[0;36m<module>\u001b[0;34m()\u001b[0m\n\u001b[0;32m----> 1\u001b[0;31m \u001b[0;32mimport\u001b[0m \u001b[0mpaddle\u001b[0m\u001b[0;34m.\u001b[0m\u001b[0mfluid\u001b[0m\u001b[0;34m\u001b[0m\u001b[0;34m\u001b[0m\u001b[0m\n\u001b[0m\u001b[1;32m      2\u001b[0m \u001b[0;34m\u001b[0m\u001b[0m\n\u001b[1;32m      3\u001b[0m \u001b[0mpaddle\u001b[0m\u001b[0;34m.\u001b[0m\u001b[0mfluid\u001b[0m\u001b[0;34m.\u001b[0m\u001b[0minstall_check\u001b[0m\u001b[0;34m.\u001b[0m\u001b[0mrun_check\u001b[0m\u001b[0;34m(\u001b[0m\u001b[0;34m)\u001b[0m\u001b[0;34m\u001b[0m\u001b[0;34m\u001b[0m\u001b[0m\n",
      "\u001b[0;31mModuleNotFoundError\u001b[0m: No module named 'paddle'"
     ]
    }
   ],
   "source": [
    "import paddle.fluid\n",
    "\n",
    "paddle.fluid.install_check.run_check()"
   ]
  },
  {
   "cell_type": "code",
   "execution_count": 8,
   "metadata": {},
   "outputs": [
    {
     "name": "stdout",
     "output_type": "stream",
     "text": [
      "+ SAVE_DIR=outputs/DailyDialog\n",
      "+ VOCAB_PATH=model/Bert/vocab.txt\n",
      "+ DATA_DIR=data/DailyDialog\n",
      "+ INIT_CHECKPOINT=model/PLATO\n",
      "+ DATA_TYPE=multi\n",
      "+ USE_VISUALDL=false\n",
      "+ export CUDA_VISIBLE_DEVICES=0\n",
      "+ export FLAGS_fraction_of_gpu_memory_to_use=0.1\n",
      "+ export FLAGS_eager_delete_scope=True\n",
      "+ export FLAGS_eager_delete_tensor_gb=0.0\n",
      "+ python -u ./preprocess.py --vocab_path model/Bert/vocab.txt --data_dir data/DailyDialog --data_type multi\n",
      "+ [[ false = true ]]\n",
      "scripts/DailyDialog/train.sh: 25: scripts/DailyDialog/train.sh: [[: not found\n",
      "+ python -u ./run.py --do_train true --vocab_path model/Bert/vocab.txt --data_dir data/DailyDialog --data_type multi --batch_size 6 --valid_steps 2000 --num_type_embeddings 2 --use_discriminator true --num_epoch 20 --lr 1e-5 --save_checkpoint false --save_summary false --init_checkpoint model/PLATO --save_dir outputs/DailyDialog\n",
      "{\n",
      "  \"do_train\": true,\n",
      "  \"do_test\": false,\n",
      "  \"do_infer\": false,\n",
      "  \"num_infer_batches\": null,\n",
      "  \"hparams_file\": null,\n",
      "  \"BPETextField\": {\n",
      "    \"vocab_path\": \"model/Bert/vocab.txt\",\n",
      "    \"filtered\": false,\n",
      "    \"max_len\": 256,\n",
      "    \"min_utt_len\": 1,\n",
      "    \"max_utt_len\": 50,\n",
      "    \"min_ctx_turn\": 1,\n",
      "    \"max_ctx_turn\": 16,\n",
      "    \"max_knowledge_num\": 16,\n",
      "    \"max_knowledge_len\": 16,\n",
      "    \"tokenizer_type\": \"Bert\"\n",
      "  },\n",
      "  \"Dataset\": {\n",
      "    \"data_dir\": \"data/DailyDialog\",\n",
      "    \"data_type\": \"multi\"\n",
      "  },\n",
      "  \"Trainer\": {\n",
      "    \"use_data_distributed\": false,\n",
      "    \"valid_metric_name\": \"-loss\",\n",
      "    \"num_epochs\": 20,\n",
      "    \"save_dir\": \"outputs/DailyDialog\",\n",
      "    \"batch_size\": 6,\n",
      "    \"log_steps\": 100,\n",
      "    \"valid_steps\": 2000,\n",
      "    \"save_checkpoint\": false,\n",
      "    \"save_summary\": false,\n",
      "    \"shuffle\": true,\n",
      "    \"sort_pool_size\": 0\n",
      "  },\n",
      "  \"Model\": {\n",
      "    \"init_checkpoint\": \"model/PLATO\",\n",
      "    \"model\": \"UnifiedTransformer\",\n",
      "    \"num_token_embeddings\": -1,\n",
      "    \"num_pos_embeddings\": 512,\n",
      "    \"num_type_embeddings\": 2,\n",
      "    \"num_turn_embeddings\": 16,\n",
      "    \"num_latent\": 20,\n",
      "    \"tau\": 0.67,\n",
      "    \"with_bow\": true,\n",
      "    \"hidden_dim\": 768,\n",
      "    \"num_heads\": 12,\n",
      "    \"num_layers\": 12,\n",
      "    \"padding_idx\": 0,\n",
      "    \"dropout\": 0.1,\n",
      "    \"embed_dropout\": 0.0,\n",
      "    \"attn_dropout\": 0.1,\n",
      "    \"ff_dropout\": 0.1,\n",
      "    \"use_discriminator\": true,\n",
      "    \"dis_ratio\": 1.0,\n",
      "    \"weight_sharing\": true,\n",
      "    \"pos_trainable\": true,\n",
      "    \"two_layer_predictor\": false,\n",
      "    \"bidirectional_context\": true,\n",
      "    \"label_smooth\": 0.0,\n",
      "    \"initializer_range\": 0.02,\n",
      "    \"lr\": 1e-05,\n",
      "    \"weight_decay\": 0.0,\n",
      "    \"max_grad_norm\": null\n",
      "  },\n",
      "  \"Generator\": {\n",
      "    \"generator\": \"BeamSearch\",\n",
      "    \"min_gen_len\": 1,\n",
      "    \"max_gen_len\": 30,\n",
      "    \"beam_size\": 5,\n",
      "    \"length_average\": false,\n",
      "    \"length_penalty\": -1.0,\n",
      "    \"ignore_unk\": true\n",
      "  }\n",
      "}\n",
      "Loading parameters from model/PLATO\n",
      "Loaded parameters from model/PLATO\n",
      "Traceback (most recent call last):\n",
      "  File \"./run.py\", line 162, in <module>\n",
      "    main()\n",
      "  File \"./run.py\", line 119, in main\n",
      "    trainer.train_epoch(train_loader, valid_loader)\n",
      "  File \"/home/xuehp/git/Research/NLP/Dialogue-PLATO/plato/trainer.py\", line 191, in train_epoch\n",
      "    metrics = self.model(batch, is_training=True)\n",
      "  File \"/home/xuehp/git/Research/NLP/Dialogue-PLATO/plato/models/model_base.py\", line 65, in __call__\n",
      "    outputs = self.forward(*args, **kwargs)\n",
      "  File \"/home/xuehp/git/Research/NLP/Dialogue-PLATO/plato/models/model_base.py\", line 122, in forward\n",
      "    outputs = self._forward(inputs, is_training)\n",
      "  File \"/home/xuehp/git/Research/NLP/Dialogue-PLATO/plato/models/unified_transformer.py\", line 439, in _forward\n",
      "    src_embed = self.embedder(src_token, src_pos, src_type, src_turn)\n",
      "  File \"/home/xuehp/git/Research/NLP/Dialogue-PLATO/env/lib/python3.6/site-packages/paddle/fluid/dygraph/layers.py\", line 178, in __call__\n",
      "    outputs = self.forward(*inputs, **kwargs)\n",
      "  File \"/home/xuehp/git/Research/NLP/Dialogue-PLATO/plato/modules/embedder.py\", line 58, in forward\n",
      "    self.type_embedding(type_inp) + \\\n",
      "  File \"/home/xuehp/git/Research/NLP/Dialogue-PLATO/env/lib/python3.6/site-packages/paddle/fluid/dygraph/layers.py\", line 178, in __call__\n",
      "    outputs = self.forward(*inputs, **kwargs)\n",
      "  File \"/home/xuehp/git/Research/NLP/Dialogue-PLATO/env/lib/python3.6/site-packages/paddle/fluid/dygraph/nn.py\", line 1509, in forward\n",
      "    'padding_idx': self._padding_idx\n",
      "  File \"/home/xuehp/git/Research/NLP/Dialogue-PLATO/env/lib/python3.6/site-packages/paddle/fluid/dygraph/layer_object_helper.py\", line 52, in append_op\n",
      "    stop_gradient=stop_gradient)\n",
      "  File \"/home/xuehp/git/Research/NLP/Dialogue-PLATO/env/lib/python3.6/site-packages/paddle/fluid/framework.py\", line 2417, in append_op\n",
      "    kwargs.get(\"stop_gradient\", False))\n",
      "  File \"/home/xuehp/git/Research/NLP/Dialogue-PLATO/env/lib/python3.6/site-packages/paddle/fluid/dygraph/tracer.py\", line 47, in trace_op\n",
      "    not stop_gradient)\n",
      "paddle.fluid.core_avx.EnforceNotMet: 0   std::string paddle::platform::GetTraceBackString<std::string const&>(std::string const&, char const*, int)\n",
      "1   paddle::platform::EnforceNotMet::EnforceNotMet(std::string const&, char const*, int)\n",
      "2   paddle::operators::LookupTableOp::InferShape(paddle::framework::InferShapeContext*) const\n",
      "3   paddle::framework::OperatorWithKernel::RuntimeInferShape(paddle::framework::Scope const&, boost::variant<paddle::platform::CUDAPlace, paddle::platform::CPUPlace, paddle::platform::CUDAPinnedPlace, boost::detail::variant::void_, boost::detail::variant::void_, boost::detail::variant::void_, boost::detail::variant::void_, boost::detail::variant::void_, boost::detail::variant::void_, boost::detail::variant::void_, boost::detail::variant::void_, boost::detail::variant::void_, boost::detail::variant::void_, boost::detail::variant::void_, boost::detail::variant::void_, boost::detail::variant::void_, boost::detail::variant::void_, boost::detail::variant::void_, boost::detail::variant::void_, boost::detail::variant::void_> const&, paddle::framework::RuntimeContext const&) const\n",
      "4   paddle::imperative::PreparedOp::Run()\n",
      "5   paddle::imperative::OpBase::Run(std::map<std::string, std::vector<std::shared_ptr<paddle::imperative::VarBase>, std::allocator<std::shared_ptr<paddle::imperative::VarBase> > >, std::less<std::string>, std::allocator<std::pair<std::string const, std::vector<std::shared_ptr<paddle::imperative::VarBase>, std::allocator<std::shared_ptr<paddle::imperative::VarBase> > > > > > const&, std::map<std::string, std::vector<std::shared_ptr<paddle::imperative::VarBase>, std::allocator<std::shared_ptr<paddle::imperative::VarBase> > >, std::less<std::string>, std::allocator<std::pair<std::string const, std::vector<std::shared_ptr<paddle::imperative::VarBase>, std::allocator<std::shared_ptr<paddle::imperative::VarBase> > > > > > const&)\n",
      "6   paddle::imperative::Tracer::TraceOp(std::string const&, std::map<std::string, std::vector<std::shared_ptr<paddle::imperative::VarBase>, std::allocator<std::shared_ptr<paddle::imperative::VarBase> > >, std::less<std::string>, std::allocator<std::pair<std::string const, std::vector<std::shared_ptr<paddle::imperative::VarBase>, std::allocator<std::shared_ptr<paddle::imperative::VarBase> > > > > > const&, std::map<std::string, std::vector<std::shared_ptr<paddle::imperative::VarBase>, std::allocator<std::shared_ptr<paddle::imperative::VarBase> > >, std::less<std::string>, std::allocator<std::pair<std::string const, std::vector<std::shared_ptr<paddle::imperative::VarBase>, std::allocator<std::shared_ptr<paddle::imperative::VarBase> > > > > > const&, std::unordered_map<std::string, boost::variant<boost::blank, int, float, std::string, std::vector<int, std::allocator<int> >, std::vector<float, std::allocator<float> >, std::vector<std::string, std::allocator<std::string> >, bool, std::vector<bool, std::allocator<bool> >, paddle::framework::BlockDesc*, long, std::vector<paddle::framework::BlockDesc*, std::allocator<paddle::framework::BlockDesc*> >, std::vector<long, std::allocator<long> >, boost::detail::variant::void_, boost::detail::variant::void_, boost::detail::variant::void_, boost::detail::variant::void_, boost::detail::variant::void_, boost::detail::variant::void_, boost::detail::variant::void_>, std::hash<std::string>, std::equal_to<std::string>, std::allocator<std::pair<std::string const, boost::variant<boost::blank, int, float, std::string, std::vector<int, std::allocator<int> >, std::vector<float, std::allocator<float> >, std::vector<std::string, std::allocator<std::string> >, bool, std::vector<bool, std::allocator<bool> >, paddle::framework::BlockDesc*, long, std::vector<paddle::framework::BlockDesc*, std::allocator<paddle::framework::BlockDesc*> >, std::vector<long, std::allocator<long> >, boost::detail::variant::void_, boost::detail::variant::void_, boost::detail::variant::void_, boost::detail::variant::void_, boost::detail::variant::void_, boost::detail::variant::void_, boost::detail::variant::void_> > > >, boost::variant<paddle::platform::CUDAPlace, paddle::platform::CPUPlace, paddle::platform::CUDAPinnedPlace, boost::detail::variant::void_, boost::detail::variant::void_, boost::detail::variant::void_, boost::detail::variant::void_, boost::detail::variant::void_, boost::detail::variant::void_, boost::detail::variant::void_, boost::detail::variant::void_, boost::detail::variant::void_, boost::detail::variant::void_, boost::detail::variant::void_, boost::detail::variant::void_, boost::detail::variant::void_, boost::detail::variant::void_, boost::detail::variant::void_, boost::detail::variant::void_, boost::detail::variant::void_> const&, bool)\n",
      "PaddleCheckError: Expected ids_dims[ids_rank - 1] == 1, but received ids_dims[ids_rank - 1]:146 != 1:1.\n",
      "ShapeError: The last dimensions of the 'Ids' tensor must be 1. But received Ids's last dimensions = 146, Ids's shape = [6, 146]. at [/paddle/paddle/fluid/operators/lookup_table_op.cc:51]\n",
      "\n"
     ]
    }
   ],
   "source": [
    "!sh scripts/DailyDialog/train.sh"
   ]
  },
  {
   "cell_type": "code",
   "execution_count": 10,
   "metadata": {},
   "outputs": [
    {
     "name": "stdout",
     "output_type": "stream",
     "text": [
      "+ SAVE_DIR=outputs/PersonaChat\n",
      "+ VOCAB_PATH=model/Bert/vocab.txt\n",
      "+ DATA_DIR=data/PersonaChat\n",
      "+ INIT_CHECKPOINT=model/PLATO\n",
      "+ DATA_TYPE=multi_knowledge\n",
      "+ USE_VISUALDL=false\n",
      "+ export CUDA_VISIBLE_DEVICES=0\n",
      "+ export FLAGS_fraction_of_gpu_memory_to_use=0.1\n",
      "+ export FLAGS_eager_delete_scope=True\n",
      "+ export FLAGS_eager_delete_tensor_gb=0.0\n",
      "+ python -u ./preprocess.py --vocab_path model/Bert/vocab.txt --data_dir data/PersonaChat --data_type multi_knowledge\n",
      "Reading examples from 'data/PersonaChat/dial.valid' ...\n",
      "14602it [00:27, 534.27it/s]\n",
      "Built 14602 VALID examples (0 filtered)\n",
      "Saving examples to 'data/PersonaChat/dial.valid.Bert.jsonl' ...\n",
      "Saved 14602 examples (elapsed 0.34s)\n",
      "Reading examples from 'data/PersonaChat/dial.test' ...\n",
      "14056it [00:25, 545.04it/s]\n",
      "Built 14056 TEST examples (0 filtered)\n",
      "Saving examples to 'data/PersonaChat/dial.test.Bert.jsonl' ...\n",
      "Saved 14056 examples (elapsed 0.33s)\n",
      "Reading examples from 'data/PersonaChat/dial.train' ...\n",
      "122499it [03:37, 562.37it/s]\n",
      "Built 122499 TRAIN examples (0 filtered)\n",
      "Saving examples to 'data/PersonaChat/dial.train.Bert.jsonl' ...\n",
      "Saved 122499 examples (elapsed 2.84s)\n",
      "+ [[ false = true ]]\n",
      "scripts/PersonaChat/train.sh: 25: scripts/PersonaChat/train.sh: [[: not found\n",
      "+ python -u ./run.py --do_train true --vocab_path model/Bert/vocab.txt --data_dir data/PersonaChat --data_type multi_knowledge --batch_size 4 --valid_steps 2000 --num_type_embeddings 3 --use_discriminator true --num_epoch 20 --lr 1e-5 --save_checkpoint false --save_summary false --init_checkpoint model/PLATO --save_dir outputs/PersonaChat\n",
      "{\n",
      "  \"do_train\": true,\n",
      "  \"do_test\": false,\n",
      "  \"do_infer\": false,\n",
      "  \"num_infer_batches\": null,\n",
      "  \"hparams_file\": null,\n",
      "  \"BPETextField\": {\n",
      "    \"vocab_path\": \"model/Bert/vocab.txt\",\n",
      "    \"filtered\": false,\n",
      "    \"max_len\": 256,\n",
      "    \"min_utt_len\": 1,\n",
      "    \"max_utt_len\": 50,\n",
      "    \"min_ctx_turn\": 1,\n",
      "    \"max_ctx_turn\": 16,\n",
      "    \"max_knowledge_num\": 16,\n",
      "    \"max_knowledge_len\": 16,\n",
      "    \"tokenizer_type\": \"Bert\"\n",
      "  },\n",
      "  \"Dataset\": {\n",
      "    \"data_dir\": \"data/PersonaChat\",\n",
      "    \"data_type\": \"multi_knowledge\"\n",
      "  },\n",
      "  \"Trainer\": {\n",
      "    \"use_data_distributed\": false,\n",
      "    \"valid_metric_name\": \"-loss\",\n",
      "    \"num_epochs\": 20,\n",
      "    \"save_dir\": \"outputs/PersonaChat\",\n",
      "    \"batch_size\": 4,\n",
      "    \"log_steps\": 100,\n",
      "    \"valid_steps\": 2000,\n",
      "    \"save_checkpoint\": false,\n",
      "    \"save_summary\": false,\n",
      "    \"shuffle\": true,\n",
      "    \"sort_pool_size\": 0\n",
      "  },\n",
      "  \"Model\": {\n",
      "    \"init_checkpoint\": \"model/PLATO\",\n",
      "    \"model\": \"UnifiedTransformer\",\n",
      "    \"num_token_embeddings\": -1,\n",
      "    \"num_pos_embeddings\": 512,\n",
      "    \"num_type_embeddings\": 3,\n",
      "    \"num_turn_embeddings\": 16,\n",
      "    \"num_latent\": 20,\n",
      "    \"tau\": 0.67,\n",
      "    \"with_bow\": true,\n",
      "    \"hidden_dim\": 768,\n",
      "    \"num_heads\": 12,\n",
      "    \"num_layers\": 12,\n",
      "    \"padding_idx\": 0,\n",
      "    \"dropout\": 0.1,\n",
      "    \"embed_dropout\": 0.0,\n",
      "    \"attn_dropout\": 0.1,\n",
      "    \"ff_dropout\": 0.1,\n",
      "    \"use_discriminator\": true,\n",
      "    \"dis_ratio\": 1.0,\n",
      "    \"weight_sharing\": true,\n",
      "    \"pos_trainable\": true,\n",
      "    \"two_layer_predictor\": false,\n",
      "    \"bidirectional_context\": true,\n",
      "    \"label_smooth\": 0.0,\n",
      "    \"initializer_range\": 0.02,\n",
      "    \"lr\": 1e-05,\n",
      "    \"weight_decay\": 0.0,\n",
      "    \"max_grad_norm\": null\n",
      "  },\n",
      "  \"Generator\": {\n",
      "    \"generator\": \"BeamSearch\",\n",
      "    \"min_gen_len\": 1,\n",
      "    \"max_gen_len\": 30,\n",
      "    \"beam_size\": 5,\n",
      "    \"length_average\": false,\n",
      "    \"length_penalty\": -1.0,\n",
      "    \"ignore_unk\": true\n",
      "  }\n",
      "}\n",
      "Loading parameters from model/PLATO\n",
      "part of parameter(Model/UnifiedTransformer_0/Embedder_0/Embedding_2.w_0) random normlize initialize\n",
      "Loaded parameters from model/PLATO\n",
      "Traceback (most recent call last):\n",
      "  File \"./run.py\", line 162, in <module>\n",
      "    main()\n",
      "  File \"./run.py\", line 119, in main\n",
      "    trainer.train_epoch(train_loader, valid_loader)\n",
      "  File \"/home/xuehp/git/Research/NLP/Dialogue-PLATO/plato/trainer.py\", line 191, in train_epoch\n",
      "    metrics = self.model(batch, is_training=True)\n",
      "  File \"/home/xuehp/git/Research/NLP/Dialogue-PLATO/plato/models/model_base.py\", line 65, in __call__\n",
      "    outputs = self.forward(*args, **kwargs)\n",
      "  File \"/home/xuehp/git/Research/NLP/Dialogue-PLATO/plato/models/model_base.py\", line 122, in forward\n",
      "    outputs = self._forward(inputs, is_training)\n",
      "  File \"/home/xuehp/git/Research/NLP/Dialogue-PLATO/plato/models/unified_transformer.py\", line 439, in _forward\n",
      "    src_embed = self.embedder(src_token, src_pos, src_type, src_turn)\n",
      "  File \"/home/xuehp/git/Research/NLP/Dialogue-PLATO/env/lib/python3.6/site-packages/paddle/fluid/dygraph/layers.py\", line 178, in __call__\n",
      "    outputs = self.forward(*inputs, **kwargs)\n",
      "  File \"/home/xuehp/git/Research/NLP/Dialogue-PLATO/plato/modules/embedder.py\", line 58, in forward\n",
      "    self.type_embedding(type_inp) + \\\n",
      "  File \"/home/xuehp/git/Research/NLP/Dialogue-PLATO/env/lib/python3.6/site-packages/paddle/fluid/dygraph/layers.py\", line 178, in __call__\n",
      "    outputs = self.forward(*inputs, **kwargs)\n",
      "  File \"/home/xuehp/git/Research/NLP/Dialogue-PLATO/env/lib/python3.6/site-packages/paddle/fluid/dygraph/nn.py\", line 1509, in forward\n",
      "    'padding_idx': self._padding_idx\n",
      "  File \"/home/xuehp/git/Research/NLP/Dialogue-PLATO/env/lib/python3.6/site-packages/paddle/fluid/dygraph/layer_object_helper.py\", line 52, in append_op\n",
      "    stop_gradient=stop_gradient)\n",
      "  File \"/home/xuehp/git/Research/NLP/Dialogue-PLATO/env/lib/python3.6/site-packages/paddle/fluid/framework.py\", line 2417, in append_op\n",
      "    kwargs.get(\"stop_gradient\", False))\n",
      "  File \"/home/xuehp/git/Research/NLP/Dialogue-PLATO/env/lib/python3.6/site-packages/paddle/fluid/dygraph/tracer.py\", line 47, in trace_op\n",
      "    not stop_gradient)\n",
      "paddle.fluid.core_avx.EnforceNotMet: 0   std::string paddle::platform::GetTraceBackString<std::string const&>(std::string const&, char const*, int)\n",
      "1   paddle::platform::EnforceNotMet::EnforceNotMet(std::string const&, char const*, int)\n",
      "2   paddle::operators::LookupTableOp::InferShape(paddle::framework::InferShapeContext*) const\n",
      "3   paddle::framework::OperatorWithKernel::RuntimeInferShape(paddle::framework::Scope const&, boost::variant<paddle::platform::CUDAPlace, paddle::platform::CPUPlace, paddle::platform::CUDAPinnedPlace, boost::detail::variant::void_, boost::detail::variant::void_, boost::detail::variant::void_, boost::detail::variant::void_, boost::detail::variant::void_, boost::detail::variant::void_, boost::detail::variant::void_, boost::detail::variant::void_, boost::detail::variant::void_, boost::detail::variant::void_, boost::detail::variant::void_, boost::detail::variant::void_, boost::detail::variant::void_, boost::detail::variant::void_, boost::detail::variant::void_, boost::detail::variant::void_, boost::detail::variant::void_> const&, paddle::framework::RuntimeContext const&) const\n",
      "4   paddle::imperative::PreparedOp::Run()\n",
      "5   paddle::imperative::OpBase::Run(std::map<std::string, std::vector<std::shared_ptr<paddle::imperative::VarBase>, std::allocator<std::shared_ptr<paddle::imperative::VarBase> > >, std::less<std::string>, std::allocator<std::pair<std::string const, std::vector<std::shared_ptr<paddle::imperative::VarBase>, std::allocator<std::shared_ptr<paddle::imperative::VarBase> > > > > > const&, std::map<std::string, std::vector<std::shared_ptr<paddle::imperative::VarBase>, std::allocator<std::shared_ptr<paddle::imperative::VarBase> > >, std::less<std::string>, std::allocator<std::pair<std::string const, std::vector<std::shared_ptr<paddle::imperative::VarBase>, std::allocator<std::shared_ptr<paddle::imperative::VarBase> > > > > > const&)\n",
      "6   paddle::imperative::Tracer::TraceOp(std::string const&, std::map<std::string, std::vector<std::shared_ptr<paddle::imperative::VarBase>, std::allocator<std::shared_ptr<paddle::imperative::VarBase> > >, std::less<std::string>, std::allocator<std::pair<std::string const, std::vector<std::shared_ptr<paddle::imperative::VarBase>, std::allocator<std::shared_ptr<paddle::imperative::VarBase> > > > > > const&, std::map<std::string, std::vector<std::shared_ptr<paddle::imperative::VarBase>, std::allocator<std::shared_ptr<paddle::imperative::VarBase> > >, std::less<std::string>, std::allocator<std::pair<std::string const, std::vector<std::shared_ptr<paddle::imperative::VarBase>, std::allocator<std::shared_ptr<paddle::imperative::VarBase> > > > > > const&, std::unordered_map<std::string, boost::variant<boost::blank, int, float, std::string, std::vector<int, std::allocator<int> >, std::vector<float, std::allocator<float> >, std::vector<std::string, std::allocator<std::string> >, bool, std::vector<bool, std::allocator<bool> >, paddle::framework::BlockDesc*, long, std::vector<paddle::framework::BlockDesc*, std::allocator<paddle::framework::BlockDesc*> >, std::vector<long, std::allocator<long> >, boost::detail::variant::void_, boost::detail::variant::void_, boost::detail::variant::void_, boost::detail::variant::void_, boost::detail::variant::void_, boost::detail::variant::void_, boost::detail::variant::void_>, std::hash<std::string>, std::equal_to<std::string>, std::allocator<std::pair<std::string const, boost::variant<boost::blank, int, float, std::string, std::vector<int, std::allocator<int> >, std::vector<float, std::allocator<float> >, std::vector<std::string, std::allocator<std::string> >, bool, std::vector<bool, std::allocator<bool> >, paddle::framework::BlockDesc*, long, std::vector<paddle::framework::BlockDesc*, std::allocator<paddle::framework::BlockDesc*> >, std::vector<long, std::allocator<long> >, boost::detail::variant::void_, boost::detail::variant::void_, boost::detail::variant::void_, boost::detail::variant::void_, boost::detail::variant::void_, boost::detail::variant::void_, boost::detail::variant::void_> > > >, boost::variant<paddle::platform::CUDAPlace, paddle::platform::CPUPlace, paddle::platform::CUDAPinnedPlace, boost::detail::variant::void_, boost::detail::variant::void_, boost::detail::variant::void_, boost::detail::variant::void_, boost::detail::variant::void_, boost::detail::variant::void_, boost::detail::variant::void_, boost::detail::variant::void_, boost::detail::variant::void_, boost::detail::variant::void_, boost::detail::variant::void_, boost::detail::variant::void_, boost::detail::variant::void_, boost::detail::variant::void_, boost::detail::variant::void_, boost::detail::variant::void_, boost::detail::variant::void_> const&, bool)\n",
      "PaddleCheckError: Expected ids_dims[ids_rank - 1] == 1, but received ids_dims[ids_rank - 1]:173 != 1:1.\n",
      "ShapeError: The last dimensions of the 'Ids' tensor must be 1. But received Ids's last dimensions = 173, Ids's shape = [4, 173]. at [/paddle/paddle/fluid/operators/lookup_table_op.cc:51]\n",
      "\n"
     ]
    },
    {
     "name": "stdout",
     "output_type": "stream",
     "text": [
      "+ [[ false = true ]]\r\n",
      "scripts/PersonaChat/train.sh: 47: scripts/PersonaChat/train.sh: [[: not found\r\n"
     ]
    }
   ],
   "source": [
    "!sh scripts/PersonaChat/train.sh"
   ]
  },
  {
   "cell_type": "code",
   "execution_count": null,
   "metadata": {},
   "outputs": [],
   "source": []
  }
 ],
 "metadata": {
  "kernelspec": {
   "display_name": "Python 3",
   "language": "python",
   "name": "python3"
  },
  "language_info": {
   "codemirror_mode": {
    "name": "ipython",
    "version": 3
   },
   "file_extension": ".py",
   "mimetype": "text/x-python",
   "name": "python",
   "nbconvert_exporter": "python",
   "pygments_lexer": "ipython3",
   "version": "3.6.9"
  }
 },
 "nbformat": 4,
 "nbformat_minor": 2
}
