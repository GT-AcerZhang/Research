{
 "cells": [
  {
   "cell_type": "code",
   "execution_count": 11,
   "metadata": {},
   "outputs": [
    {
     "name": "stdout",
     "output_type": "stream",
     "text": [
      "Looking in indexes: https://pypi.tuna.tsinghua.edu.cn/simple\n",
      "Collecting numpy==1.14\n",
      "  Downloading https://pypi.tuna.tsinghua.edu.cn/packages/dc/ac/5c270dffb864f23315e9c1f9e0a0b300c797b3c170666c031c4de42aacae/numpy-1.14.0-cp36-cp36m-manylinux1_x86_64.whl (17.2 MB)\n",
      "\u001b[K     |████████████████████████████████| 17.2 MB 49 kB/s eta 0:00:0101   |███▊                            | 2.0 MB 93 kB/s eta 0:02:44 |█████████▋                      | 5.2 MB 93 kB/s eta 0:02:10▋               | 8.9 MB 42 kB/s eta 0:03:162 kB/s eta 0:02:20�▊         | 12.2 MB 49 kB/s eta 0:01:42 |██████████████████████████▉     | 14.4 MB 49 kB/s eta 0:00:58��███▌ | 16.4 MB 49 kB/s eta 0:00:16\n",
      "\u001b[31mERROR: paddlepaddle 1.6.0 has requirement matplotlib<=2.2.4, but you'll have matplotlib 3.2.1 which is incompatible.\u001b[0m\n",
      "\u001b[31mERROR: paddlepaddle 1.6.0 has requirement nltk<=3.4,>=3.2.2, but you'll have nltk 3.5 which is incompatible.\u001b[0m\n",
      "\u001b[31mERROR: paddlepaddle 1.6.0 has requirement scipy<=1.2.1,>=0.19.0, but you'll have scipy 1.3.1 which is incompatible.\u001b[0m\n",
      "\u001b[?25hInstalling collected packages: numpy\n",
      "  Attempting uninstall: numpy\n",
      "    Found existing installation: numpy 1.18.3\n",
      "    Uninstalling numpy-1.18.3:\n",
      "      Successfully uninstalled numpy-1.18.3\n",
      "Successfully installed numpy-1.14.0\n"
     ]
    }
   ],
   "source": [
    "!pip install numpy==1.14 -i https://pypi.tuna.tsinghua.edu.cn/simple"
   ]
  },
  {
   "cell_type": "code",
   "execution_count": 12,
   "metadata": {},
   "outputs": [
    {
     "name": "stdout",
     "output_type": "stream",
     "text": [
      "Package          Version      \n",
      "---------------- -------------\n",
      "certifi          2020.4.5.1   \n",
      "chardet          3.0.4        \n",
      "click            7.1.1        \n",
      "cycler           0.10.0       \n",
      "decorator        4.4.2        \n",
      "funcsigs         1.0.2        \n",
      "graphviz         0.14         \n",
      "idna             2.9          \n",
      "joblib           0.14.1       \n",
      "kiwisolver       1.2.0        \n",
      "matplotlib       3.2.1        \n",
      "nltk             3.5          \n",
      "numpy            1.14.0       \n",
      "objgraph         3.4.1        \n",
      "opencv-python    4.2.0.34     \n",
      "paddlepaddle     1.6.0        \n",
      "paddlepaddle-gpu 1.7.2.post107\n",
      "Pillow           7.1.1        \n",
      "pip              20.0.2       \n",
      "pkg-resources    0.0.0        \n",
      "prettytable      0.7.2        \n",
      "protobuf         3.11.3       \n",
      "pyparsing        2.4.7        \n",
      "python-dateutil  2.8.1        \n",
      "PyYAML           5.3.1        \n",
      "rarfile          3.1          \n",
      "regex            2020.4.4     \n",
      "requests         2.23.0       \n",
      "scipy            1.3.1        \n",
      "setuptools       39.0.1       \n",
      "six              1.14.0       \n",
      "tqdm             4.45.0       \n",
      "urllib3          1.25.9       \n"
     ]
    }
   ],
   "source": [
    "!pip list"
   ]
  },
  {
   "cell_type": "code",
   "execution_count": 13,
   "metadata": {},
   "outputs": [
    {
     "ename": "ModuleNotFoundError",
     "evalue": "No module named 'numpy'",
     "output_type": "error",
     "traceback": [
      "\u001b[0;31m---------------------------------------------------------------------------\u001b[0m",
      "\u001b[0;31mModuleNotFoundError\u001b[0m                       Traceback (most recent call last)",
      "\u001b[0;32m<ipython-input-13-57ae8d6be821>\u001b[0m in \u001b[0;36m<module>\u001b[0;34m()\u001b[0m\n\u001b[1;32m      4\u001b[0m \u001b[0;32mimport\u001b[0m \u001b[0mos\u001b[0m\u001b[0;34m\u001b[0m\u001b[0;34m\u001b[0m\u001b[0m\n\u001b[1;32m      5\u001b[0m \u001b[0;34m\u001b[0m\u001b[0m\n\u001b[0;32m----> 6\u001b[0;31m \u001b[0;32mimport\u001b[0m \u001b[0mnumpy\u001b[0m \u001b[0;32mas\u001b[0m \u001b[0mnp\u001b[0m\u001b[0;34m\u001b[0m\u001b[0;34m\u001b[0m\u001b[0m\n\u001b[0m\u001b[1;32m      7\u001b[0m \u001b[0;32mimport\u001b[0m \u001b[0mpaddle\u001b[0m\u001b[0;34m.\u001b[0m\u001b[0mfluid\u001b[0m \u001b[0;32mas\u001b[0m \u001b[0mfluid\u001b[0m\u001b[0;34m\u001b[0m\u001b[0;34m\u001b[0m\u001b[0m\n\u001b[1;32m      8\u001b[0m \u001b[0;34m\u001b[0m\u001b[0m\n",
      "\u001b[0;31mModuleNotFoundError\u001b[0m: No module named 'numpy'"
     ]
    }
   ],
   "source": [
    "\n",
    "import argparse\n",
    "import json\n",
    "import os\n",
    "\n",
    "import numpy as np\n",
    "import paddle.fluid as fluid\n",
    "\n",
    "from plato.args import parse_args\n",
    "from plato.args import str2bool\n",
    "from plato.data.data_loader import DataLoader\n",
    "from plato.data.dataset import Dataset\n",
    "from plato.data.dataset import LazyDataset\n",
    "from plato.data.field import BPETextField\n",
    "from plato.trainer import Trainer\n",
    "from plato.models.model_base import ModelBase\n",
    "from plato.models.generator import Generator\n",
    "import plato.modules.parallel as parallel"
   ]
  },
  {
   "cell_type": "code",
   "execution_count": null,
   "metadata": {},
   "outputs": [],
   "source": []
  }
 ],
 "metadata": {
  "kernelspec": {
   "display_name": "Python 3",
   "language": "python",
   "name": "python3"
  },
  "language_info": {
   "codemirror_mode": {
    "name": "ipython",
    "version": 3
   },
   "file_extension": ".py",
   "mimetype": "text/x-python",
   "name": "python",
   "nbconvert_exporter": "python",
   "pygments_lexer": "ipython3",
   "version": "3.6.9"
  }
 },
 "nbformat": 4,
 "nbformat_minor": 2
}
