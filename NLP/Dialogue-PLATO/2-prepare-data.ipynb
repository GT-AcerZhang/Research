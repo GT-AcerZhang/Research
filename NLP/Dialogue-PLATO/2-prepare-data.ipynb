{
 "cells": [
  {
   "cell_type": "markdown",
   "metadata": {},
   "source": [
    "\n",
    "2020-04-23 17:50:26\n",
    "\n",
    "准备数据"
   ]
  },
  {
   "cell_type": "code",
   "execution_count": 1,
   "metadata": {},
   "outputs": [
    {
     "name": "stdout",
     "output_type": "stream",
     "text": [
      "Reading examples from 'data/DailyDialog/dial.valid' ...\n",
      "7069it [00:07, 950.23it/s] \n",
      "Built 7069 VALID examples (0 filtered)\n",
      "Saving examples to 'data/DailyDialog/dial.valid.Bert.jsonl' ...\n",
      "Saved 7069 examples (elapsed 0.10s)\n",
      "Reading examples from 'data/DailyDialog/dial.test' ...\n",
      "6740it [00:07, 950.15it/s] \n",
      "Built 6740 TEST examples (0 filtered)\n",
      "Saving examples to 'data/DailyDialog/dial.test.Bert.jsonl' ...\n",
      "Saved 6740 examples (elapsed 0.10s)\n",
      "Reading examples from 'data/DailyDialog/dial.train' ...\n",
      "76052it [01:21, 933.06it/s] \n",
      "Built 76052 TRAIN examples (0 filtered)\n",
      "Saving examples to 'data/DailyDialog/dial.train.Bert.jsonl' ...\n",
      "Saved 76052 examples (elapsed 1.11s)\n"
     ]
    }
   ],
   "source": [
    "\n",
    "!python preprocess.py \\\n",
    "   --vocab_path 'model/Bert/vocab.txt' \\\n",
    "   --data_dir 'data/DailyDialog' \\\n",
    "   --data_type 'multi'"
   ]
  },
  {
   "cell_type": "code",
   "execution_count": 2,
   "metadata": {},
   "outputs": [
    {
     "name": "stdout",
     "output_type": "stream",
     "text": [
      "Reading examples from 'data/DSTC7_AVSD/dial.valid' ...\n",
      "17870it [00:35, 506.31it/s]\n",
      "Built 17870 VALID examples (0 filtered)\n",
      "Saving examples to 'data/DSTC7_AVSD/dial.valid.Bert.jsonl' ...\n",
      "Saved 17870 examples (elapsed 0.42s)\n",
      "Reading examples from 'data/DSTC7_AVSD/dial.test' ...\n",
      "1710it [00:04, 406.05it/s]\n",
      "Built 1710 TEST examples (0 filtered)\n",
      "Saving examples to 'data/DSTC7_AVSD/dial.test.Bert.jsonl' ...\n",
      "Saved 1710 examples (elapsed 0.04s)\n",
      "Reading examples from 'data/DSTC7_AVSD/dial.train' ...\n",
      "76590it [02:31, 504.47it/s]\n",
      "Built 76590 TRAIN examples (0 filtered)\n",
      "Saving examples to 'data/DSTC7_AVSD/dial.train.Bert.jsonl' ...\n",
      "Saved 76590 examples (elapsed 1.82s)\n"
     ]
    }
   ],
   "source": [
    "\n",
    "!python preprocess.py \\\n",
    "   --vocab_path 'model/Bert/vocab.txt' \\\n",
    "   --data_dir 'data/DSTC7_AVSD' \\\n",
    "   --data_type 'multi_knowledge'"
   ]
  },
  {
   "cell_type": "code",
   "execution_count": 3,
   "metadata": {},
   "outputs": [
    {
     "name": "stdout",
     "output_type": "stream",
     "text": [
      "Reading examples from 'data/PersonaChat/dial.valid' ...\n",
      "14602it [00:26, 556.61it/s]\n",
      "Built 14602 VALID examples (0 filtered)\n",
      "Saving examples to 'data/PersonaChat/dial.valid.Bert.jsonl' ...\n",
      "Saved 14602 examples (elapsed 0.33s)\n",
      "Reading examples from 'data/PersonaChat/dial.test' ...\n",
      "14056it [00:24, 572.14it/s]\n",
      "Built 14056 TEST examples (0 filtered)\n",
      "Saving examples to 'data/PersonaChat/dial.test.Bert.jsonl' ...\n",
      "Saved 14056 examples (elapsed 0.32s)\n",
      "Reading examples from 'data/PersonaChat/dial.train' ...\n",
      "122499it [03:27, 589.45it/s]\n",
      "Built 122499 TRAIN examples (0 filtered)\n",
      "Saving examples to 'data/PersonaChat/dial.train.Bert.jsonl' ...\n",
      "Saved 122499 examples (elapsed 2.71s)\n"
     ]
    }
   ],
   "source": [
    "\n",
    "!python preprocess.py \\\n",
    "   --vocab_path 'model/Bert/vocab.txt' \\\n",
    "   --data_dir 'data/PersonaChat' \\\n",
    "   --data_type 'multi_knowledge'"
   ]
  },
  {
   "cell_type": "code",
   "execution_count": 4,
   "metadata": {},
   "outputs": [
    {
     "name": "stdout",
     "output_type": "stream",
     "text": [
      "+ SAVE_DIR=outputs/DailyDialog\n",
      "+ VOCAB_PATH=model/Bert/vocab.txt\n",
      "+ DATA_DIR=data/DailyDialog\n",
      "+ INIT_CHECKPOINT=model/PLATO\n",
      "+ DATA_TYPE=multi\n",
      "+ USE_VISUALDL=false\n",
      "+ export CUDA_VISIBLE_DEVICES=0\n",
      "+ export FLAGS_fraction_of_gpu_memory_to_use=0.1\n",
      "+ export FLAGS_eager_delete_scope=True\n",
      "+ export FLAGS_eager_delete_tensor_gb=0.0\n",
      "+ [[ false = true ]]\n",
      "scripts/DailyDialog/train.sh: 25: scripts/DailyDialog/train.sh: [[: not found\n",
      "+ python -u ./run.py --do_train true --vocab_path model/Bert/vocab.txt --data_dir data/DailyDialog --data_type multi --batch_size 12 --valid_steps 2000 --num_type_embeddings 2 --use_discriminator true --num_epoch 20 --lr 1e-5 --save_checkpoint false --save_summary false --init_checkpoint model/PLATO --save_dir outputs/DailyDialog\n",
      "{\n",
      "  \"do_train\": true,\n",
      "  \"do_test\": false,\n",
      "  \"do_infer\": false,\n",
      "  \"num_infer_batches\": null,\n",
      "  \"hparams_file\": null,\n",
      "  \"BPETextField\": {\n",
      "    \"vocab_path\": \"model/Bert/vocab.txt\",\n",
      "    \"filtered\": false,\n",
      "    \"max_len\": 256,\n",
      "    \"min_utt_len\": 1,\n",
      "    \"max_utt_len\": 50,\n",
      "    \"min_ctx_turn\": 1,\n",
      "    \"max_ctx_turn\": 16,\n",
      "    \"max_knowledge_num\": 16,\n",
      "    \"max_knowledge_len\": 16,\n",
      "    \"tokenizer_type\": \"Bert\"\n",
      "  },\n",
      "  \"Dataset\": {\n",
      "    \"data_dir\": \"data/DailyDialog\",\n",
      "    \"data_type\": \"multi\"\n",
      "  },\n",
      "  \"Trainer\": {\n",
      "    \"use_data_distributed\": false,\n",
      "    \"valid_metric_name\": \"-loss\",\n",
      "    \"num_epochs\": 20,\n",
      "    \"save_dir\": \"outputs/DailyDialog\",\n",
      "    \"batch_size\": 12,\n",
      "    \"log_steps\": 100,\n",
      "    \"valid_steps\": 2000,\n",
      "    \"save_checkpoint\": false,\n",
      "    \"save_summary\": false,\n",
      "    \"shuffle\": true,\n",
      "    \"sort_pool_size\": 0\n",
      "  },\n",
      "  \"Model\": {\n",
      "    \"init_checkpoint\": \"model/PLATO\",\n",
      "    \"model\": \"UnifiedTransformer\",\n",
      "    \"num_token_embeddings\": -1,\n",
      "    \"num_pos_embeddings\": 512,\n",
      "    \"num_type_embeddings\": 2,\n",
      "    \"num_turn_embeddings\": 16,\n",
      "    \"num_latent\": 20,\n",
      "    \"tau\": 0.67,\n",
      "    \"with_bow\": true,\n",
      "    \"hidden_dim\": 768,\n",
      "    \"num_heads\": 12,\n",
      "    \"num_layers\": 12,\n",
      "    \"padding_idx\": 0,\n",
      "    \"dropout\": 0.1,\n",
      "    \"embed_dropout\": 0.0,\n",
      "    \"attn_dropout\": 0.1,\n",
      "    \"ff_dropout\": 0.1,\n",
      "    \"use_discriminator\": true,\n",
      "    \"dis_ratio\": 1.0,\n",
      "    \"weight_sharing\": true,\n",
      "    \"pos_trainable\": true,\n",
      "    \"two_layer_predictor\": false,\n",
      "    \"bidirectional_context\": true,\n",
      "    \"label_smooth\": 0.0,\n",
      "    \"initializer_range\": 0.02,\n",
      "    \"lr\": 1e-05,\n",
      "    \"weight_decay\": 0.0,\n",
      "    \"max_grad_norm\": null\n",
      "  },\n",
      "  \"Generator\": {\n",
      "    \"generator\": \"BeamSearch\",\n",
      "    \"min_gen_len\": 1,\n",
      "    \"max_gen_len\": 30,\n",
      "    \"beam_size\": 5,\n",
      "    \"length_average\": false,\n",
      "    \"length_penalty\": -1.0,\n",
      "    \"ignore_unk\": true\n",
      "  }\n",
      "}\n",
      "E0423 17:58:29.013216  6308 pybind.cc:1149] Cannot use GPU because you have installed CPU version PaddlePaddle.\n",
      "If you want to use GPU, please try to install GPU version PaddlePaddle by: pip install paddlepaddle-gpu\n",
      "If you only have CPU, please change CUDAPlace(0) to be CPUPlace().\n",
      "+ [[ false = true ]]\n",
      "scripts/DailyDialog/train.sh: 47: scripts/DailyDialog/train.sh: [[: not found\n"
     ]
    }
   ],
   "source": [
    "\n",
    "!sh scripts/DailyDialog/train.sh"
   ]
  },
  {
   "cell_type": "markdown",
   "metadata": {},
   "source": [
    "在命令行运行\n",
    "2020-04-23 17:58:53"
   ]
  },
  {
   "cell_type": "code",
   "execution_count": 6,
   "metadata": {},
   "outputs": [
    {
     "name": "stdout",
     "output_type": "stream",
     "text": [
      "Collecting paddlepaddle-gpu\n",
      "  Downloading https://pypi.tuna.tsinghua.edu.cn/packages/98/0e/665c759f416881edc008f11558aef77c42da1e231eba97fe54ce41f9c720/paddlepaddle_gpu-1.7.2.post107-cp36-cp36m-manylinux1_x86_64.whl (259.1MB)\n",
      "\u001b[K    100% |████████████████████████████████| 259.1MB 5.1kB/s eta 0:00:011                      | 5.1MB 70.1MB/s eta 0:00:04| 8.7MB 65.2MB/s eta 0:00:04           | 12.2MB 74.7MB/s eta 0:00:04|██                              | 15.7MB 89.9MB/s eta 0:00:03% |██▉                             | 23.3MB 73.4MB/s eta 0:00:04                   | 25.2MB 89.6MB/s eta 0:00:030:00:04    14% |████▊                           | 37.9MB 21.8MB/s eta 0:00:11:00:04MB/s eta 0:00:04�▋                       | 69.3MB 74.0MB/s eta 0:00:03��████                     | 88.2MB 72.1MB/s eta 0:00:03████████▊                    | 95.2MB 69.9MB/s eta 0:00:03B 64.1MB/s eta 0:00:03| 102.1MB 87.7MB/s eta 0:00:02��███                   | 106.0MB 70.9MB/s eta 0:00:03��██████████▍                  | 108.6MB 66.0MB/s eta 0:00:03         | 111.2MB 97.6MB/s eta 0:00:02�█████████████                  | 113.6MB 67.1MB/s eta 0:00:03�▌                | 125.9MB 74.1MB/s eta 0:00:02|███████████████▉                | 128.2MB 69.6MB/s eta 0:00:02           | 130.7MB 81.2MB/s eta 0:00:02s eta 0:00:02�█████▊               | 135.6MB 73.0MB/s eta 0:00:02 0:00:02�███████████████▎              | 140.4MB 55.8MB/s eta 0:00:03��██████▋              | 142.8MB 92.4MB/s eta 0:00:02████████▎             | 148.3MB 66.9MB/s eta 0:00:02��████▋             | 150.6MB 89.2MB/s eta 0:00:02████████████████▎            | 155.9MB 79.3MB/s eta 0:00:02��███████████▋            | 159.0MB 70.2MB/s eta 0:00:02�███████████████████▏           | 163.5MB 98.4MB/s eta 0:00:014.1MB/s eta 0:00:02 64% |████████████████████▊           | 167.9MB 75.0MB/s eta 0:00:02█████████████████           | 170.0MB 95.5MB/s eta 0:00:01a 0:00:02█▌          | 173.8MB 90.8MB/s eta 0:00:012.3MB/s eta 0:00:02��█████████████▍         | 180.9MB 71.9MB/s eta 0:00:02�         | 183.0MB 87.5MB/s eta 0:00:01�████████████████████▊         | 184.2MB 55.4MB/s eta 0:00:02K    71% |███████████████████████         | 186.4MB 90.7MB/s eta 0:00:016MB/s eta 0:00:01��███████████████████████▏      | 203.9MB 71.8MB/s eta 0:00:01.5MB 48.4MB/s eta 0:00:0207.4MB 59.2MB/s eta 0:00:01�██████████████████▉      | 209.6MB 65.3MB/s eta 0:00:01�██████████████████████▏     | 211.7MB 84.5MB/s eta 0:00:01|██████████████████████████▍     | 213.7MB 84.7MB/s eta 0:00:01:00:01███████▋    | 223.9MB 77.1MB/s eta 0:00:01��███████████████████████████    | 225.9MB 74.2MB/s eta 0:00:01�██████████████████████████▏   | 227.8MB 87.7MB/s eta 0:00:01██████████████████████▍   | 229.4MB 68.3MB/s eta 0:00:01�███████████████████████████▋   | 231.3MB 91.6MB/s eta 0:00:01�████████   | 235.2MB 96.0MB/s eta 0:00:01  90% |█████████████████████████████▏  | 235.8MB 67.7MB/s eta 0:00:01�█████▍  | 237.8MB 96.0MB/s eta 0:00:0165.8MB/s eta 0:00:01███████████████▉  | 241.5MB 82.6MB/s eta 0:00:01███████▏ | 244.5MB 36.3MB/s eta 0:00:01██████████████████████████▌ | 246.6MB 79.5MB/s eta 0:00:01�█████████████████▌| 254.9MB 41.7MB/s eta 0:00:01███████████████▊| 256.8MB 76.7MB/s eta 0:00:01��█████████████████| 258.6MB 91.1MB/s eta 0:00:01\n",
      "\u001b[?25hRequirement already satisfied: nltk; python_version >= \"3.5\" in ./env/lib/python3.6/site-packages (from paddlepaddle-gpu)\n",
      "Requirement already satisfied: funcsigs in ./env/lib/python3.6/site-packages (from paddlepaddle-gpu)\n",
      "Requirement already satisfied: prettytable in ./env/lib/python3.6/site-packages (from paddlepaddle-gpu)\n",
      "Requirement already satisfied: graphviz in ./env/lib/python3.6/site-packages (from paddlepaddle-gpu)\n",
      "Requirement already satisfied: matplotlib; python_version >= \"3.6\" in ./env/lib/python3.6/site-packages (from paddlepaddle-gpu)\n",
      "Requirement already satisfied: rarfile in ./env/lib/python3.6/site-packages (from paddlepaddle-gpu)\n",
      "Requirement already satisfied: six in ./env/lib/python3.6/site-packages (from paddlepaddle-gpu)\n",
      "Requirement already satisfied: Pillow in ./env/lib/python3.6/site-packages (from paddlepaddle-gpu)\n",
      "Requirement already satisfied: decorator in ./env/lib/python3.6/site-packages (from paddlepaddle-gpu)\n",
      "Requirement already satisfied: numpy>=1.12; python_version >= \"3.5\" in ./env/lib/python3.6/site-packages (from paddlepaddle-gpu)\n",
      "Requirement already satisfied: pyyaml in ./env/lib/python3.6/site-packages (from paddlepaddle-gpu)\n",
      "Requirement already satisfied: requests>=2.20.0 in ./env/lib/python3.6/site-packages (from paddlepaddle-gpu)\n",
      "Collecting scipy<=1.3.1; python_version >= \"3.5\" (from paddlepaddle-gpu)\n",
      "  Downloading https://pypi.tuna.tsinghua.edu.cn/packages/29/50/a552a5aff252ae915f522e44642bb49a7b7b31677f9580cfd11bcc869976/scipy-1.3.1-cp36-cp36m-manylinux1_x86_64.whl (25.2MB)\n",
      "\u001b[K    100% |████████████████████████████████| 25.2MB 54kB/s  eta 0:00:011█▍                            | 2.7MB 59.6MB/s eta 0:00:01               | 5.8MB 80.9MB/s eta 0:00:015MB/s eta 0:00:01�██▌                 | 11.4MB 77.9MB/s eta 0:00:01           | 14.0MB 88.4MB/s eta 0:00:01    65% |█████████████████████           | 16.6MB 28.3MB/s eta 0:00:01/s eta 0:00:01eta 0:00:01\n",
      "\u001b[?25hRequirement already satisfied: protobuf>=3.1.0 in ./env/lib/python3.6/site-packages (from paddlepaddle-gpu)\n",
      "Requirement already satisfied: objgraph in ./env/lib/python3.6/site-packages (from paddlepaddle-gpu)\n",
      "Requirement already satisfied: opencv-python in ./env/lib/python3.6/site-packages (from paddlepaddle-gpu)\n",
      "Requirement already satisfied: click in ./env/lib/python3.6/site-packages (from nltk; python_version >= \"3.5\"->paddlepaddle-gpu)\n",
      "Requirement already satisfied: joblib in ./env/lib/python3.6/site-packages (from nltk; python_version >= \"3.5\"->paddlepaddle-gpu)\n",
      "Requirement already satisfied: regex in ./env/lib/python3.6/site-packages (from nltk; python_version >= \"3.5\"->paddlepaddle-gpu)\n",
      "Requirement already satisfied: tqdm in ./env/lib/python3.6/site-packages (from nltk; python_version >= \"3.5\"->paddlepaddle-gpu)\n",
      "Requirement already satisfied: cycler>=0.10 in ./env/lib/python3.6/site-packages (from matplotlib; python_version >= \"3.6\"->paddlepaddle-gpu)\n",
      "Requirement already satisfied: pyparsing!=2.0.4,!=2.1.2,!=2.1.6,>=2.0.1 in ./env/lib/python3.6/site-packages (from matplotlib; python_version >= \"3.6\"->paddlepaddle-gpu)\n",
      "Requirement already satisfied: kiwisolver>=1.0.1 in ./env/lib/python3.6/site-packages (from matplotlib; python_version >= \"3.6\"->paddlepaddle-gpu)\n",
      "Requirement already satisfied: python-dateutil>=2.1 in ./env/lib/python3.6/site-packages (from matplotlib; python_version >= \"3.6\"->paddlepaddle-gpu)\n",
      "Requirement already satisfied: certifi>=2017.4.17 in ./env/lib/python3.6/site-packages (from requests>=2.20.0->paddlepaddle-gpu)\n",
      "Requirement already satisfied: chardet<4,>=3.0.2 in ./env/lib/python3.6/site-packages (from requests>=2.20.0->paddlepaddle-gpu)\n",
      "Requirement already satisfied: idna<3,>=2.5 in ./env/lib/python3.6/site-packages (from requests>=2.20.0->paddlepaddle-gpu)\n",
      "Requirement already satisfied: urllib3!=1.25.0,!=1.25.1,<1.26,>=1.21.1 in ./env/lib/python3.6/site-packages (from requests>=2.20.0->paddlepaddle-gpu)\n",
      "Requirement already satisfied: setuptools in ./env/lib/python3.6/site-packages (from protobuf>=3.1.0->paddlepaddle-gpu)\n",
      "Installing collected packages: scipy, paddlepaddle-gpu\n",
      "  Found existing installation: scipy 1.4.1\n",
      "    Uninstalling scipy-1.4.1:\n",
      "      Successfully uninstalled scipy-1.4.1\n",
      "Successfully installed paddlepaddle-gpu-1.7.2.post107 scipy-1.3.1\n"
     ]
    }
   ],
   "source": [
    "!pip install paddlepaddle-gpu -i https://pypi.tuna.tsinghua.edu.cn/simple"
   ]
  },
  {
   "cell_type": "code",
   "execution_count": 7,
   "metadata": {},
   "outputs": [
    {
     "name": "stdout",
     "output_type": "stream",
     "text": [
      "Requirement already up-to-date: pip in ./env/lib/python3.6/site-packages (20.0.2)\r\n"
     ]
    }
   ],
   "source": [
    "!pip install --upgrade pip\n"
   ]
  },
  {
   "cell_type": "code",
   "execution_count": 9,
   "metadata": {},
   "outputs": [
    {
     "name": "stdout",
     "output_type": "stream",
     "text": [
      "+ SAVE_DIR=outputs/DailyDialog.baseline.infer\n",
      "+ VOCAB_PATH=model/Bert/vocab.txt\n",
      "+ DATA_DIR=data/DailyDialog\n",
      "+ INIT_CHECKPOINT=outputs/DailyDialog.baseline/best.model\n",
      "+ DATA_TYPE=multi\n",
      "+ export CUDA_VISIBLE_DEVICES=0\n",
      "+ export FLAGS_fraction_of_gpu_memory_to_use=0.1\n",
      "+ export FLAGS_eager_delete_scope=True\n",
      "+ export FLAGS_eager_delete_tensor_gb=0.0\n",
      "+ python -u ./preprocess.py --vocab_path model/Bert/vocab.txt --data_dir data/DailyDialog --data_type multi\n",
      "+ python -u ./run.py --do_infer true --vocab_path model/Bert/vocab.txt --data_dir data/DailyDialog --data_type multi --batch_size 48 --num_latent 0 --num_type_embeddings 2 --init_checkpoint outputs/DailyDialog.baseline/best.model --length_average true --save_dir outputs/DailyDialog.baseline.infer\n",
      "Traceback (most recent call last):\n",
      "  File \"./run.py\", line 32, in <module>\n",
      "    from plato.models.model_base import ModelBase\n",
      "  File \"/home/xuehp/git/Research/NLP/Dialogue-PLATO/plato/models/__init__.py\", line 18, in <module>\n",
      "    import plato.models.unified_transformer\n",
      "  File \"/home/xuehp/git/Research/NLP/Dialogue-PLATO/plato/models/unified_transformer.py\", line 21, in <module>\n",
      "    from paddle.fluid.dygraph import FC\n",
      "ImportError: cannot import name 'FC'\n"
     ]
    }
   ],
   "source": [
    "!sh scripts/DailyDialog/baseline_infer.sh "
   ]
  },
  {
   "cell_type": "code",
   "execution_count": null,
   "metadata": {},
   "outputs": [],
   "source": []
  }
 ],
 "metadata": {
  "kernelspec": {
   "display_name": "Python 3",
   "language": "python",
   "name": "python3"
  },
  "language_info": {
   "codemirror_mode": {
    "name": "ipython",
    "version": 3
   },
   "file_extension": ".py",
   "mimetype": "text/x-python",
   "name": "python",
   "nbconvert_exporter": "python",
   "pygments_lexer": "ipython3",
   "version": "3.6.9"
  }
 },
 "nbformat": 4,
 "nbformat_minor": 2
}
