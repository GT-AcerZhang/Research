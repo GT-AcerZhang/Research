{
 "cells": [
  {
   "cell_type": "markdown",
   "metadata": {},
   "source": [
    "2020-04-23 15:56:54\n",
    "\n",
    "目的，用gpu机器训练模型，得到模型，并验证效果。\n",
    "\n",
    "uber的plato，预测的结果不成句子，无法使用。\n",
    "\n",
    "百度的这个仓库是使用的是选择式的方法，根据上下文选择下一句。效果应该能好一些。\n",
    "\n",
    "代码中有预测部分。\n",
    "\n"
   ]
  },
  {
   "cell_type": "code",
   "execution_count": null,
   "metadata": {},
   "outputs": [],
   "source": []
  }
 ],
 "metadata": {
  "kernelspec": {
   "display_name": "Python 3",
   "language": "python",
   "name": "python3"
  },
  "language_info": {
   "codemirror_mode": {
    "name": "ipython",
    "version": 3
   },
   "file_extension": ".py",
   "mimetype": "text/x-python",
   "name": "python",
   "nbconvert_exporter": "python",
   "pygments_lexer": "ipython3",
   "version": "3.7.3"
  }
 },
 "nbformat": 4,
 "nbformat_minor": 2
}
